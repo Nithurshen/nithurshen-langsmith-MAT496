{
 "cells": [
  {
   "cell_type": "code",
   "metadata": {
    "ExecuteTime": {
     "end_time": "2025-10-04T12:02:33.996634Z",
     "start_time": "2025-10-04T12:02:33.992180Z"
    }
   },
   "source": [
    "# You can set them inline\n",
    "import os"
   ],
   "outputs": [],
   "execution_count": 1
  },
  {
   "cell_type": "code",
   "metadata": {
    "ExecuteTime": {
     "end_time": "2025-10-04T12:02:34.475472Z",
     "start_time": "2025-10-04T12:02:34.467249Z"
    }
   },
   "source": [
    "# Or you can use a .env file\n",
    "from dotenv import load_dotenv\n",
    "load_dotenv(dotenv_path=\"../../../.env\", override=True)"
   ],
   "outputs": [
    {
     "data": {
      "text/plain": [
       "True"
      ]
     },
     "execution_count": 2,
     "metadata": {},
     "output_type": "execute_result"
    }
   ],
   "execution_count": 2
  },
  {
   "cell_type": "code",
   "metadata": {
    "ExecuteTime": {
     "end_time": "2025-10-04T12:04:45.261591Z",
     "start_time": "2025-10-04T12:04:44.471614Z"
    }
   },
   "source": [
    "from langsmith import Client\n",
    "\n",
    "example_inputs = [\n",
    "(\"How many world championships did Sebastian Vettel win?\", \"Sebastian Vettel won four Formula 1 World Drivers' Championships. He achieved this feat consecutively with the Red Bull Racing team from 2010 to 2013.\"),\n",
    "(\"What is Max Verstappen's racing number?\", \"Max Verstappen's racing number is 1, a privilege he uses as the reigning World Champion. Before winning his first title, his permanent number was 33.\"),\n",
    "(\"Who is the youngest World Champion in Formula 1 history?\", \"Sebastian Vettel holds the record for being the youngest World Champion in Formula 1 history. He won his first title in 2010 at the age of 23 years and 134 days.\"),\n",
    "(\"Which teams did Sebastian Vettel drive for in his F1 career?\", \"Sebastian Vettel drove for five teams during his Formula 1 career. He started with BMW Sauber, then moved to Toro Rosso, Red Bull Racing, Ferrari, and concluded his career with Aston Martin.\"),\n",
    "(\"How many world championships has Max Verstappen won?\", \"As of the end of the 2023 season, Max Verstappen has won three Formula 1 World Drivers' Championships. He secured these titles consecutively in 2021, 2022, and 2023 with Red Bull Racing.\"),\n",
    "(\"What does DRS stand for in F1?\", \"DRS stands for Drag Reduction System. It's a system that allows a driver to open a flap in the rear wing to reduce aerodynamic drag, increasing their top speed and aiding in overtaking within designated zones on the track.\"),\n",
    "(\"Did Sebastian Vettel and Max Verstappen ever race for the same F1 team?\", \"No, Sebastian Vettel and Max Verstappen were never teammates at the same time. However, they both drove for the Red Bull junior team (Toro Rosso, now Visa Cash App RB) and the senior Red Bull Racing team at different points in their careers.\"),\n",
    "(\"What is special about Sebastian Vettel's first F1 win?\", \"Sebastian Vettel's first Formula 1 victory at the 2008 Italian Grand Prix was historic. He not only became the youngest F1 race winner at the time but also secured the first and only win for the Scuderia Toro Rosso team.\"),\n",
    "(\"Who is Max Verstappen's father, and did he also race in F1?\", \"Yes, Max Verstappen's father is Jos Verstappen, who was also a Formula 1 driver. Jos competed in F1 from 1994 to 2003 for teams including Benetton, Stewart, and Arrows.\"),\n",
    "(\"What nickname is Sebastian Vettel known for regarding his cars?\", \"Sebastian Vettel is famous for giving his cars female names at the start of each season. Some well-known examples include 'Kinky Kylie,' 'Hungry Heidi,' and 'Luscious Liz.'\"),\n",
    "]\n",
    "\n",
    "client = Client()\n",
    "dataset_id = \"07834c4a-2910-44ab-be68-af0213877761\" # TODO: Fill in dataset id\n",
    "\n",
    "# Prepare inputs and outputs for bulk creation\n",
    "inputs = [{\"question\": input_prompt} for input_prompt, _ in example_inputs]\n",
    "outputs = [{\"output\": output_answer} for _, output_answer in example_inputs]\n",
    "\n",
    "client.create_examples(\n",
    "  inputs=inputs,\n",
    "  outputs=outputs,\n",
    "  dataset_id=dataset_id,\n",
    ")"
   ],
   "outputs": [
    {
     "name": "stderr",
     "output_type": "stream",
     "text": [
      "/Users/nithurshen/SNU/intro-to-langsmith/.venv/lib/python3.9/site-packages/urllib3/__init__.py:35: NotOpenSSLWarning: urllib3 v2 only supports OpenSSL 1.1.1+, currently the 'ssl' module is compiled with 'LibreSSL 2.8.3'. See: https://github.com/urllib3/urllib3/issues/3020\n",
      "  warnings.warn(\n"
     ]
    },
    {
     "data": {
      "text/plain": [
       "{'example_ids': ['72622f93-1014-496f-a2f2-80b6fc75cfe0',\n",
       "  'dc03f5d3-7ead-4e59-9fa3-1eddb4d31e01',\n",
       "  'ac569251-2f1d-49d7-893e-9634c0dfb818',\n",
       "  'f2a7897b-9877-4828-88cd-7ad006bd3ba0',\n",
       "  '2999d38e-a626-429e-a6e4-bac6b2d7ab0f',\n",
       "  '8da31f2d-c94e-41e1-ac28-17ed53972919',\n",
       "  '85cd87ec-8db7-4e65-8ec5-869870a3ef42',\n",
       "  'c5960a02-380a-4d7e-a523-b451d431b706',\n",
       "  'afdbaa28-95cf-49da-b69b-0e3fb85a325c',\n",
       "  '76ed35ab-9abe-4066-9e20-0694883e115b'],\n",
       " 'count': 10}"
      ]
     },
     "execution_count": 3,
     "metadata": {},
     "output_type": "execute_result"
    }
   ],
   "execution_count": 3
  },
  {
   "cell_type": "code",
   "metadata": {
    "ExecuteTime": {
     "end_time": "2025-10-04T12:04:49.056719Z",
     "start_time": "2025-10-04T12:04:47.824329Z"
    }
   },
   "source": [
    "from app import langsmith_rag"
   ],
   "outputs": [],
   "execution_count": 4
  },
  {
   "cell_type": "code",
   "metadata": {
    "ExecuteTime": {
     "end_time": "2025-10-04T12:05:15.590299Z",
     "start_time": "2025-10-04T12:05:13.545832Z"
    }
   },
   "source": [
    "question = \"How many types of F1 tyres are there?\"\n",
    "langsmith_rag(question)"
   ],
   "outputs": [
    {
     "name": "stderr",
     "output_type": "stream",
     "text": [
      "/Users/nithurshen/SNU/intro-to-langsmith/.venv/lib/python3.9/site-packages/sklearn/utils/extmath.py:203: RuntimeWarning: divide by zero encountered in matmul\n",
      "  ret = a @ b\n",
      "/Users/nithurshen/SNU/intro-to-langsmith/.venv/lib/python3.9/site-packages/sklearn/utils/extmath.py:203: RuntimeWarning: overflow encountered in matmul\n",
      "  ret = a @ b\n",
      "/Users/nithurshen/SNU/intro-to-langsmith/.venv/lib/python3.9/site-packages/sklearn/utils/extmath.py:203: RuntimeWarning: invalid value encountered in matmul\n",
      "  ret = a @ b\n"
     ]
    },
    {
     "data": {
      "text/plain": [
       "\"I don't know.\""
      ]
     },
     "execution_count": 5,
     "metadata": {},
     "output_type": "execute_result"
    }
   ],
   "execution_count": 5
  }
 ],
 "metadata": {
  "kernelspec": {
   "display_name": "ls-academy",
   "language": "python",
   "name": "python3"
  },
  "language_info": {
   "codemirror_mode": {
    "name": "ipython",
    "version": 3
   },
   "file_extension": ".py",
   "mimetype": "text/x-python",
   "name": "python",
   "nbconvert_exporter": "python",
   "pygments_lexer": "ipython3",
   "version": "3.9.6"
  }
 },
 "nbformat": 4,
 "nbformat_minor": 4
}
