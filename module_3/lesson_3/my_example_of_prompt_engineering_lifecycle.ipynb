{
 "cells": [
  {
   "cell_type": "code",
   "metadata": {
    "ExecuteTime": {
     "end_time": "2025-10-06T11:39:59.577849Z",
     "start_time": "2025-10-06T11:39:59.574834Z"
    }
   },
   "source": [
    "# You can set them inline\n",
    "import os"
   ],
   "outputs": [],
   "execution_count": 1
  },
  {
   "cell_type": "code",
   "metadata": {
    "ExecuteTime": {
     "end_time": "2025-10-06T11:40:00.094516Z",
     "start_time": "2025-10-06T11:40:00.082713Z"
    }
   },
   "source": [
    "# Or you can use a .env file\n",
    "from dotenv import load_dotenv\n",
    "load_dotenv(dotenv_path=\"../../../.env\", override=True)"
   ],
   "outputs": [
    {
     "data": {
      "text/plain": [
       "True"
      ]
     },
     "execution_count": 2,
     "metadata": {},
     "output_type": "execute_result"
    }
   ],
   "execution_count": 2
  },
  {
   "cell_type": "code",
   "metadata": {
    "ExecuteTime": {
     "end_time": "2025-10-06T11:46:02.850240Z",
     "start_time": "2025-10-06T11:45:59.682557Z"
    }
   },
   "source": [
    "from notebooks.module_3.lesson_4.app import langsmith_rag\n",
    "\n",
    "question = \"How do I create a github commit?\"\n",
    "langsmith_rag(question)"
   ],
   "outputs": [
    {
     "name": "stderr",
     "output_type": "stream",
     "text": [
      "/Users/nithurshen/SNU/intro-to-langsmith/.venv/lib/python3.9/site-packages/sklearn/utils/extmath.py:203: RuntimeWarning: divide by zero encountered in matmul\n",
      "  ret = a @ b\n",
      "/Users/nithurshen/SNU/intro-to-langsmith/.venv/lib/python3.9/site-packages/sklearn/utils/extmath.py:203: RuntimeWarning: overflow encountered in matmul\n",
      "  ret = a @ b\n",
      "/Users/nithurshen/SNU/intro-to-langsmith/.venv/lib/python3.9/site-packages/sklearn/utils/extmath.py:203: RuntimeWarning: invalid value encountered in matmul\n",
      "  ret = a @ b\n"
     ]
    },
    {
     "data": {
      "text/plain": [
       "'To create a GitHub commit, you need to call an intermediary server that authenticates using a GitHub Personal Access Token (PAT) with the appropriate scopes. The server will then be able to make commits to your repository. Ensure to generate the token in your GitHub settings and store it securely as an environment variable for your server.'"
      ]
     },
     "execution_count": 8,
     "metadata": {},
     "output_type": "execute_result"
    }
   ],
   "execution_count": 8
  },
  {
   "cell_type": "code",
   "metadata": {
    "ExecuteTime": {
     "end_time": "2025-10-06T11:45:38.602680Z",
     "start_time": "2025-10-06T11:45:37.274638Z"
    }
   },
   "source": [
    "from langsmith import Client\n",
    "\n",
    "example_dataset = [\n",
    "    (\n",
    "        \"How do I create a new repository on GitHub from the command line?\",\n",
    "        \"You can use the official GitHub CLI (`gh`). Once it's installed and you're authenticated, you can use the `gh repo create` command to create a new repository directly from your terminal.\\n\\n```bash\\n# Create a new public repository named 'my-new-project'\\ngh repo create my-new-project --public\\n\\n# Create a private one and push an existing local repo\\ngh repo create my-secret-project --private --source=. --remote=origin\\n```\\n\\nThis makes it fast and easy to get your projects onto GitHub without leaving the command line.\"\n",
    "    ),\n",
    "    (\n",
    "        \"How can I undo my last commit on GitHub?\",\n",
    "        \"You undo commits locally using Git and then push the updated history to GitHub. A common way to undo the last commit is with `git reset`. Use `--soft` to keep your file changes, or `--hard` to discard them completely.\\n\\n```bash\\n# Go back one commit, but keep your changes staged\\ngit reset --soft HEAD~\\n\\n# WARNING: This will delete your changes permanently\\ngit reset --hard HEAD~\\n``` \\n\\nAfter resetting, you will likely need to force-push to update the branch on GitHub, for example: `git push origin main --force`.\"\n",
    "    ),\n",
    "    (\n",
    "        \"How do I resolve a merge conflict in a pull request?\",\n",
    "        \"To resolve a merge conflict, you first need to pull the latest changes from the base branch into your feature branch. Git will then mark the conflicts in the files for you with markers (`<<<<<<<`, `=======`, `>>>>>>>`).\\n\\n```diff\\n<<<<<<< HEAD\\nThis is your conflicting change.\\n=======\\nThis is the conflicting change from the other branch.\\n>>>>>>> branch-name\\n```\\n\\nYou must manually edit the file to remove the markers and decide which code to keep. Once you've fixed all conflicts, you add the resolved files with `git add .`, commit them with `git commit`, and push the changes back to your branch to update the pull request.\"\n",
    "    ),\n",
    "]\n",
    "\n",
    "client = Client()\n",
    "dataset_name = \"Github Questions\"\n",
    "\n",
    "# Create dataset\n",
    "dataset = client.create_dataset(\n",
    "    dataset_name=dataset_name, description=\"Technical questions about Github\"\n",
    ")\n",
    "\n",
    "# Prepare inputs and outputs\n",
    "# FIX: Unpack two values (q, a) and create inputs without 'context'\n",
    "inputs = [{\"question\": q} for q, a in example_dataset]\n",
    "# FIX: Unpack two values and use the second one ('a') for the output\n",
    "outputs = [{\"output\": a} for q, a in example_dataset]\n",
    "\n",
    "# Create examples in the dataset\n",
    "client.create_examples(\n",
    "    inputs=inputs,\n",
    "    outputs=outputs,\n",
    "    dataset_id=dataset.id,\n",
    ")\n",
    "\n",
    "print(f\"Dataset '{dataset_name}' created successfully.\")"
   ],
   "outputs": [
    {
     "name": "stdout",
     "output_type": "stream",
     "text": [
      "Dataset 'Github Questions' created successfully.\n"
     ]
    }
   ],
   "execution_count": 7
  },
  {
   "cell_type": "code",
   "metadata": {
    "ExecuteTime": {
     "end_time": "2025-10-06T11:47:51.094467Z",
     "start_time": "2025-10-06T11:47:50.730140Z"
    }
   },
   "source": [
    "from langchain import hub\n",
    "prompt = hub.pull(\"git_terminal\")"
   ],
   "outputs": [],
   "execution_count": 9
  },
  {
   "cell_type": "code",
   "metadata": {
    "ExecuteTime": {
     "end_time": "2025-10-06T11:47:59.957342Z",
     "start_time": "2025-10-06T11:47:59.911493Z"
    }
   },
   "source": [
    "from langsmith.client import convert_prompt_to_openai_format\n",
    "import os\n",
    "import tempfile\n",
    "from langchain.text_splitter import RecursiveCharacterTextSplitter\n",
    "from langchain_community.document_loaders.sitemap import SitemapLoader\n",
    "from langchain_community.vectorstores import SKLearnVectorStore\n",
    "from langchain_openai import OpenAIEmbeddings\n",
    "from langsmith import traceable\n",
    "from openai import OpenAI\n",
    "from typing import List\n",
    "import nest_asyncio\n",
    "\n",
    "MODEL_NAME = \"gpt-4o-mini\"\n",
    "MODEL_PROVIDER = \"openai\"\n",
    "APP_VERSION = 1.0\n",
    "\n",
    "# TODO: Remove this hard-coded prompt and replace it with Prompt Hub\n",
    "\n",
    "openai_client = OpenAI()\n",
    "\n",
    "def get_vector_db_retriever():\n",
    "    persist_path = os.path.join(tempfile.gettempdir(), \"union.parquet\")\n",
    "    embd = OpenAIEmbeddings()\n",
    "\n",
    "    # If vector store exists, then load it\n",
    "    if os.path.exists(persist_path):\n",
    "        vectorstore = SKLearnVectorStore(\n",
    "            embedding=embd,\n",
    "            persist_path=persist_path,\n",
    "            serializer=\"parquet\"\n",
    "        )\n",
    "        return vectorstore.as_retriever(lambda_mult=0)\n",
    "\n",
    "    # Otherwise, index LangSmith documents and create new vector store\n",
    "    ls_docs_sitemap_loader = SitemapLoader(web_path=\"https://docs.smith.langchain.com/sitemap.xml\", continue_on_failure=True)\n",
    "    ls_docs = ls_docs_sitemap_loader.load()\n",
    "\n",
    "    text_splitter = RecursiveCharacterTextSplitter.from_tiktoken_encoder(\n",
    "        chunk_size=500, chunk_overlap=0\n",
    "    )\n",
    "    doc_splits = text_splitter.split_documents(ls_docs)\n",
    "\n",
    "    vectorstore = SKLearnVectorStore.from_documents(\n",
    "        documents=doc_splits,\n",
    "        embedding=embd,\n",
    "        persist_path=persist_path,\n",
    "        serializer=\"parquet\"\n",
    "    )\n",
    "    vectorstore.persist()\n",
    "    return vectorstore.as_retriever(lambda_mult=0)\n",
    "\n",
    "nest_asyncio.apply()\n",
    "retriever = get_vector_db_retriever()\n",
    "\n",
    "\"\"\"\n",
    "retrieve_documents\n",
    "- Returns documents fetched from a vectorstore based on the user's question\n",
    "\"\"\"\n",
    "@traceable(run_type=\"chain\")\n",
    "def retrieve_documents(question: str):\n",
    "    return retriever.invoke(question)\n",
    "\n",
    "\"\"\"\n",
    "generate_response\n",
    "- Calls `call_openai` to generate a model response after formatting inputs\n",
    "\"\"\"\n",
    "@traceable(run_type=\"chain\")\n",
    "def generate_response(question: str, documents):\n",
    "    formatted_docs = \"\\n\\n\".join(doc.page_content for doc in documents)\n",
    "    # TODO: Let's use our prompt pulled from Prompt Hub instead of manually formatting here!\n",
    "    formatted_prompt = prompt.invoke({\"context\":formatted_docs, \"question\": question})\n",
    "    messages = convert_prompt_to_openai_format(formatted_prompt)[\"messages\"]\n",
    "    return call_openai(messages)\n",
    "\n",
    "\"\"\"\n",
    "call_openai\n",
    "- Returns the chat completion output from OpenAI\n",
    "\"\"\"\n",
    "@traceable(\n",
    "    run_type=\"llm\",\n",
    "    metadata={\n",
    "        \"ls_provider\": MODEL_PROVIDER,\n",
    "        \"ls_model_name\": MODEL_NAME\n",
    "    }\n",
    ")\n",
    "def call_openai(messages: List[dict]) -> str:\n",
    "    return openai_client.chat.completions.create(\n",
    "        model=MODEL_NAME,\n",
    "        messages=messages,\n",
    "    )\n",
    "\n",
    "\"\"\"\n",
    "langsmith_rag\n",
    "- Calls `retrieve_documents` to fetch documents\n",
    "- Calls `generate_response` to generate a response based on the fetched documents\n",
    "- Returns the model response\n",
    "\"\"\"\n",
    "@traceable(run_type=\"chain\")\n",
    "def langsmith_rag(question: str):\n",
    "    documents = retrieve_documents(question)\n",
    "    response = generate_response(question, documents)\n",
    "    return response.choices[0].message.content\n"
   ],
   "outputs": [],
   "execution_count": 10
  },
  {
   "cell_type": "code",
   "metadata": {
    "ExecuteTime": {
     "end_time": "2025-10-06T11:48:18.225679Z",
     "start_time": "2025-10-06T11:48:15.260493Z"
    }
   },
   "source": [
    "question = \"How to push a new change into a public repository?\"\n",
    "langsmith_rag(question)"
   ],
   "outputs": [
    {
     "name": "stderr",
     "output_type": "stream",
     "text": [
      "/Users/nithurshen/SNU/intro-to-langsmith/.venv/lib/python3.9/site-packages/sklearn/utils/extmath.py:203: RuntimeWarning: divide by zero encountered in matmul\n",
      "  ret = a @ b\n",
      "/Users/nithurshen/SNU/intro-to-langsmith/.venv/lib/python3.9/site-packages/sklearn/utils/extmath.py:203: RuntimeWarning: overflow encountered in matmul\n",
      "  ret = a @ b\n",
      "/Users/nithurshen/SNU/intro-to-langsmith/.venv/lib/python3.9/site-packages/sklearn/utils/extmath.py:203: RuntimeWarning: invalid value encountered in matmul\n",
      "  ret = a @ b\n"
     ]
    },
    {
     "data": {
      "text/plain": [
       "'To push a new change into a public repository, first stage your changes with `git add .`, then commit them using `git commit -m \"Your commit message\"`. Finally, push the changes to the remote repository with `git push origin main`, replacing \"main\" with your branch name if necessary.'"
      ]
     },
     "execution_count": 11,
     "metadata": {},
     "output_type": "execute_result"
    }
   ],
   "execution_count": 11
  }
 ],
 "metadata": {
  "kernelspec": {
   "display_name": "ls-academy",
   "language": "python",
   "name": "python3"
  },
  "language_info": {
   "codemirror_mode": {
    "name": "ipython",
    "version": 3
   },
   "file_extension": ".py",
   "mimetype": "text/x-python",
   "name": "python",
   "nbconvert_exporter": "python",
   "pygments_lexer": "ipython3",
   "version": "3.9.6"
  }
 },
 "nbformat": 4,
 "nbformat_minor": 4
}
