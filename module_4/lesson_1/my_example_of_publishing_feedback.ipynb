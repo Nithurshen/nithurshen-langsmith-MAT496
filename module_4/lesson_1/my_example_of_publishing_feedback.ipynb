{
 "cells": [
  {
   "cell_type": "code",
   "metadata": {
    "ExecuteTime": {
     "end_time": "2025-10-07T05:42:34.983229Z",
     "start_time": "2025-10-07T05:42:34.979832Z"
    }
   },
   "source": [
    "# You can set them inline\n",
    "import os"
   ],
   "outputs": [],
   "execution_count": 1
  },
  {
   "cell_type": "code",
   "metadata": {
    "ExecuteTime": {
     "end_time": "2025-10-07T05:42:35.650732Z",
     "start_time": "2025-10-07T05:42:35.644513Z"
    }
   },
   "source": [
    "# Or you can use a .env file\n",
    "from dotenv import load_dotenv\n",
    "load_dotenv(dotenv_path=\"../../.env\", override=True)"
   ],
   "outputs": [
    {
     "data": {
      "text/plain": [
       "True"
      ]
     },
     "execution_count": 2,
     "metadata": {},
     "output_type": "execute_result"
    }
   ],
   "execution_count": 2
  },
  {
   "cell_type": "code",
   "metadata": {
    "ExecuteTime": {
     "end_time": "2025-10-07T05:43:00.993477Z",
     "start_time": "2025-10-07T05:43:00.990454Z"
    }
   },
   "source": "run_id = \"4a98dd50-d10e-4fa8-a1a6-da084d881a75\"",
   "outputs": [],
   "execution_count": 3
  },
  {
   "cell_type": "code",
   "metadata": {
    "ExecuteTime": {
     "end_time": "2025-10-07T05:43:29.969329Z",
     "start_time": "2025-10-07T05:43:28.015857Z"
    }
   },
   "source": [
    "from langsmith import Client\n",
    "\n",
    "client = Client()\n",
    "\n",
    "client.create_feedback(\n",
    "  run_id,\n",
    "  key=\"f1-points-continuous\",\n",
    "  score=245,\n",
    "  comment=\"This is the current score in the driver standings\",\n",
    ")"
   ],
   "outputs": [
    {
     "name": "stderr",
     "output_type": "stream",
     "text": [
      "/Users/nithurshen/SNU/intro-to-langsmith/.venv/lib/python3.9/site-packages/urllib3/__init__.py:35: NotOpenSSLWarning: urllib3 v2 only supports OpenSSL 1.1.1+, currently the 'ssl' module is compiled with 'LibreSSL 2.8.3'. See: https://github.com/urllib3/urllib3/issues/3020\n",
      "  warnings.warn(\n"
     ]
    },
    {
     "data": {
      "text/plain": [
       "Feedback(id=UUID('32fea12f-73b1-4156-92cc-005d5ebf0d9c'), created_at=datetime.datetime(2025, 10, 7, 5, 43, 28, 107036, tzinfo=datetime.timezone.utc), modified_at=datetime.datetime(2025, 10, 7, 5, 43, 28, 107040, tzinfo=datetime.timezone.utc), run_id=UUID('4a98dd50-d10e-4fa8-a1a6-da084d881a75'), trace_id=None, key='f1-points-continuous', score=245, value=None, comment='This is the current score in the driver standings', correction=None, feedback_source=FeedbackSourceBase(type='api', metadata={}, user_id=None, user_name=None), session_id=None, comparative_experiment_id=None, feedback_group_id=None, extra=None)"
      ]
     },
     "execution_count": 4,
     "metadata": {},
     "output_type": "execute_result"
    }
   ],
   "execution_count": 4
  },
  {
   "cell_type": "code",
   "metadata": {
    "ExecuteTime": {
     "end_time": "2025-10-07T05:44:52.626137Z",
     "start_time": "2025-10-07T05:44:51.460023Z"
    }
   },
   "source": [
    "from langsmith import Client\n",
    "\n",
    "client = Client()\n",
    "\n",
    "client.create_feedback(\n",
    "  run_id,\n",
    "  key=\"team-condition-categorical\",\n",
    "  value=\"championship_contender\",\n",
    "  comment=\"This feedback indicates that the team is a championship contender\",\n",
    ")"
   ],
   "outputs": [
    {
     "data": {
      "text/plain": [
       "Feedback(id=UUID('e82bbb64-7050-4cc5-be0e-9673faf0a195'), created_at=datetime.datetime(2025, 10, 7, 5, 44, 51, 463502, tzinfo=datetime.timezone.utc), modified_at=datetime.datetime(2025, 10, 7, 5, 44, 51, 463506, tzinfo=datetime.timezone.utc), run_id=UUID('4a98dd50-d10e-4fa8-a1a6-da084d881a75'), trace_id=None, key='team-condition-categorical', score=None, value='championship_contender', comment='This feedback indicates that the team is a championship contender', correction=None, feedback_source=FeedbackSourceBase(type='api', metadata={}, user_id=None, user_name=None), session_id=None, comparative_experiment_id=None, feedback_group_id=None, extra=None)"
      ]
     },
     "execution_count": 5,
     "metadata": {},
     "output_type": "execute_result"
    }
   ],
   "execution_count": 5
  },
  {
   "cell_type": "code",
   "metadata": {
    "ExecuteTime": {
     "end_time": "2025-10-07T05:46:01.006547Z",
     "start_time": "2025-10-07T05:46:01.003339Z"
    }
   },
   "source": [
    "import uuid\n",
    "\n",
    "pre_defined_run_id = uuid.uuid4()\n",
    "pre_defined_run_id"
   ],
   "outputs": [
    {
     "data": {
      "text/plain": [
       "UUID('1c96414a-99bf-4a02-9ac2-0498b6c66e96')"
      ]
     },
     "execution_count": 7,
     "metadata": {},
     "output_type": "execute_result"
    }
   ],
   "execution_count": 7
  },
  {
   "cell_type": "code",
   "metadata": {
    "ExecuteTime": {
     "end_time": "2025-10-07T05:46:02.157365Z",
     "start_time": "2025-10-07T05:46:02.155440Z"
    }
   },
   "source": [
    "from langsmith import traceable\n",
    "\n",
    "@traceable\n",
    "def verstappen():\n",
    "    return \"This run is dedicated to Verstappen's win in Monza!\""
   ],
   "outputs": [],
   "execution_count": 8
  },
  {
   "cell_type": "code",
   "metadata": {
    "ExecuteTime": {
     "end_time": "2025-10-07T05:46:03.394285Z",
     "start_time": "2025-10-07T05:46:03.338431Z"
    }
   },
   "source": "verstappen(langsmith_extra={\"run_id\": pre_defined_run_id})",
   "outputs": [
    {
     "data": {
      "text/plain": [
       "\"This run is dedicated to Verstappen's win in Monza!\""
      ]
     },
     "execution_count": 9,
     "metadata": {},
     "output_type": "execute_result"
    }
   ],
   "execution_count": 9
  },
  {
   "cell_type": "code",
   "metadata": {
    "ExecuteTime": {
     "end_time": "2025-10-07T05:46:19.230184Z",
     "start_time": "2025-10-07T05:46:18.169577Z"
    }
   },
   "source": [
    "from langsmith import Client\n",
    "\n",
    "client = Client()\n",
    "\n",
    "client.create_feedback(pre_defined_run_id, \"driver_points\", score=25)"
   ],
   "outputs": [
    {
     "data": {
      "text/plain": [
       "Feedback(id=UUID('12b8302a-6f2a-4fad-845d-09b0c64a988a'), created_at=datetime.datetime(2025, 10, 7, 5, 46, 18, 173026, tzinfo=datetime.timezone.utc), modified_at=datetime.datetime(2025, 10, 7, 5, 46, 18, 173029, tzinfo=datetime.timezone.utc), run_id=UUID('1c96414a-99bf-4a02-9ac2-0498b6c66e96'), trace_id=None, key='driver_points', score=25, value=None, comment=None, correction=None, feedback_source=FeedbackSourceBase(type='api', metadata={}, user_id=None, user_name=None), session_id=None, comparative_experiment_id=None, feedback_group_id=None, extra=None)"
      ]
     },
     "execution_count": 10,
     "metadata": {},
     "output_type": "execute_result"
    }
   ],
   "execution_count": 10
  },
  {
   "cell_type": "code",
   "metadata": {
    "ExecuteTime": {
     "end_time": "2025-10-07T05:46:21.628354Z",
     "start_time": "2025-10-07T05:46:21.622229Z"
    }
   },
   "source": [
    "pre_signed_url_id = uuid.uuid4()\n",
    "pre_signed_url_id"
   ],
   "outputs": [
    {
     "data": {
      "text/plain": [
       "UUID('6c0521f2-ac7a-44a8-a209-4fe1e4288746')"
      ]
     },
     "execution_count": 11,
     "metadata": {},
     "output_type": "execute_result"
    }
   ],
   "execution_count": 11
  },
  {
   "cell_type": "code",
   "metadata": {
    "ExecuteTime": {
     "end_time": "2025-10-07T05:46:26.901842Z",
     "start_time": "2025-10-07T05:46:26.228044Z"
    }
   },
   "source": [
    "pre_signed_url = client.create_presigned_feedback_token(pre_signed_url_id, \"user_presigned_feedback\")\n",
    "\n",
    "print(pre_signed_url)"
   ],
   "outputs": [
    {
     "name": "stdout",
     "output_type": "stream",
     "text": [
      "id=UUID('572c1980-f54f-4f7e-8d34-4fa6efd36654') url='https://api.smith.langchain.com/feedback/tokens/572c1980-f54f-4f7e-8d34-4fa6efd36654' expires_at=datetime.datetime(2025, 10, 7, 8, 46, 26, 732204, tzinfo=datetime.timezone.utc)\n"
     ]
    }
   ],
   "execution_count": 12
  },
  {
   "cell_type": "code",
   "metadata": {
    "ExecuteTime": {
     "end_time": "2025-10-07T05:46:39.626874Z",
     "start_time": "2025-10-07T05:46:39.622092Z"
    }
   },
   "source": "verstappen(langsmith_extra={\"driver_points\": pre_signed_url_id})",
   "outputs": [
    {
     "data": {
      "text/plain": [
       "\"This run is dedicated to Verstappen's win in Monza!\""
      ]
     },
     "execution_count": 13,
     "metadata": {},
     "output_type": "execute_result"
    }
   ],
   "execution_count": 13
  },
  {
   "cell_type": "code",
   "metadata": {
    "ExecuteTime": {
     "end_time": "2025-10-07T05:47:16.468210Z",
     "start_time": "2025-10-07T05:47:15.897306Z"
    }
   },
   "source": [
    "import requests\n",
    "\n",
    "url_with_score = f\"{pre_signed_url.url}?score=25\"\n",
    "\n",
    "response = requests.get(url_with_score)\n",
    "\n",
    "if response.status_code >= 200 and response.status_code < 300:\n",
    "    print(\"Points awarded successfully!\")\n",
    "else:\n",
    "    print(\"Points addition failed!\")"
   ],
   "outputs": [
    {
     "name": "stdout",
     "output_type": "stream",
     "text": [
      "Points awarded successfully!\n"
     ]
    }
   ],
   "execution_count": 14
  }
 ],
 "metadata": {
  "kernelspec": {
   "display_name": "ls-academy",
   "language": "python",
   "name": "python3"
  },
  "language_info": {
   "codemirror_mode": {
    "name": "ipython",
    "version": 3
   },
   "file_extension": ".py",
   "mimetype": "text/x-python",
   "name": "python",
   "nbconvert_exporter": "python",
   "pygments_lexer": "ipython3",
   "version": "3.9.6"
  }
 },
 "nbformat": 4,
 "nbformat_minor": 4
}
