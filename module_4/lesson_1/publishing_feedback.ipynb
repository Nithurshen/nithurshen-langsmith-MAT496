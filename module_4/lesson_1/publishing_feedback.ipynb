{
 "cells": [
  {
   "cell_type": "markdown",
   "metadata": {},
   "source": [
    "# Publishing Feedback"
   ]
  },
  {
   "cell_type": "markdown",
   "metadata": {},
   "source": [
    "### Setup"
   ]
  },
  {
   "cell_type": "code",
   "metadata": {
    "ExecuteTime": {
     "end_time": "2025-10-07T05:34:36.708699Z",
     "start_time": "2025-10-07T05:34:36.705419Z"
    }
   },
   "source": [
    "# You can set them inline\n",
    "import os"
   ],
   "outputs": [],
   "execution_count": 1
  },
  {
   "cell_type": "code",
   "metadata": {
    "ExecuteTime": {
     "end_time": "2025-10-07T05:34:36.734093Z",
     "start_time": "2025-10-07T05:34:36.728324Z"
    }
   },
   "source": [
    "# Or you can use a .env file\n",
    "from dotenv import load_dotenv\n",
    "load_dotenv(dotenv_path=\"../../.env\", override=True)"
   ],
   "outputs": [
    {
     "data": {
      "text/plain": [
       "True"
      ]
     },
     "execution_count": 2,
     "metadata": {},
     "output_type": "execute_result"
    }
   ],
   "execution_count": 2
  },
  {
   "cell_type": "markdown",
   "metadata": {},
   "source": [
    "### Adding Feedback to a Run"
   ]
  },
  {
   "cell_type": "markdown",
   "metadata": {},
   "source": [
    "You can add feedback to an existing Run programmatically as long as you know the run_id. Let's grab a run_id from the LangSmith UI and add it here."
   ]
  },
  {
   "cell_type": "code",
   "metadata": {
    "ExecuteTime": {
     "end_time": "2025-10-07T05:39:02.702211Z",
     "start_time": "2025-10-07T05:39:02.698978Z"
    }
   },
   "source": "run_id = \"e56b7da1-ea8e-41b1-9219-20613832c3c2\"",
   "outputs": [],
   "execution_count": 3
  },
  {
   "cell_type": "markdown",
   "metadata": {},
   "source": [
    "Now, let's add some continuous feedback"
   ]
  },
  {
   "cell_type": "code",
   "metadata": {
    "ExecuteTime": {
     "end_time": "2025-10-07T05:39:26.209155Z",
     "start_time": "2025-10-07T05:39:23.678170Z"
    }
   },
   "source": [
    "from langsmith import Client\n",
    "\n",
    "client = Client()\n",
    "\n",
    "client.create_feedback(\n",
    "  run_id,\n",
    "  key=\"sample-continuous\",\n",
    "  score=7.0,\n",
    "  comment=\"This is a sample piece of continuous feedback\",\n",
    ")"
   ],
   "outputs": [
    {
     "name": "stderr",
     "output_type": "stream",
     "text": [
      "/Users/nithurshen/SNU/intro-to-langsmith/.venv/lib/python3.9/site-packages/urllib3/__init__.py:35: NotOpenSSLWarning: urllib3 v2 only supports OpenSSL 1.1.1+, currently the 'ssl' module is compiled with 'LibreSSL 2.8.3'. See: https://github.com/urllib3/urllib3/issues/3020\n",
      "  warnings.warn(\n"
     ]
    },
    {
     "data": {
      "text/plain": [
       "Feedback(id=UUID('a9dd0ec4-fefc-4239-8afe-9f83da2ce09a'), created_at=datetime.datetime(2025, 10, 7, 5, 39, 23, 797189, tzinfo=datetime.timezone.utc), modified_at=datetime.datetime(2025, 10, 7, 5, 39, 23, 797193, tzinfo=datetime.timezone.utc), run_id=UUID('e56b7da1-ea8e-41b1-9219-20613832c3c2'), trace_id=None, key='sample-continuous', score=7.0, value=None, comment='This is a sample piece of continuous feedback', correction=None, feedback_source=FeedbackSourceBase(type='api', metadata={}, user_id=None, user_name=None), session_id=None, comparative_experiment_id=None, feedback_group_id=None, extra=None)"
      ]
     },
     "execution_count": 4,
     "metadata": {},
     "output_type": "execute_result"
    }
   ],
   "execution_count": 4
  },
  {
   "cell_type": "markdown",
   "metadata": {},
   "source": [
    "And now, let's add some categorical feedback too!"
   ]
  },
  {
   "cell_type": "code",
   "metadata": {
    "ExecuteTime": {
     "end_time": "2025-10-07T05:39:40.967824Z",
     "start_time": "2025-10-07T05:39:39.788256Z"
    }
   },
   "source": [
    "from langsmith import Client\n",
    "\n",
    "client = Client()\n",
    "\n",
    "client.create_feedback(\n",
    "  run_id,\n",
    "  key=\"sample-categorical\",\n",
    "  value=\"no\",\n",
    "  comment=\"This is a sample piece of categorical feedback\",\n",
    ")"
   ],
   "outputs": [
    {
     "data": {
      "text/plain": [
       "Feedback(id=UUID('f9c8f3f0-d469-4f2c-9266-8bd18a6143e4'), created_at=datetime.datetime(2025, 10, 7, 5, 39, 39, 792637, tzinfo=datetime.timezone.utc), modified_at=datetime.datetime(2025, 10, 7, 5, 39, 39, 792640, tzinfo=datetime.timezone.utc), run_id=UUID('e56b7da1-ea8e-41b1-9219-20613832c3c2'), trace_id=None, key='sample-categorical', score=None, value='no', comment='This is a sample piece of categorical feedback', correction=None, feedback_source=FeedbackSourceBase(type='api', metadata={}, user_id=None, user_name=None), session_id=None, comparative_experiment_id=None, feedback_group_id=None, extra=None)"
      ]
     },
     "execution_count": 5,
     "metadata": {},
     "output_type": "execute_result"
    }
   ],
   "execution_count": 5
  },
  {
   "cell_type": "markdown",
   "metadata": {},
   "source": [
    "### Pre-Generating Run IDs for Feedback"
   ]
  },
  {
   "cell_type": "markdown",
   "metadata": {},
   "source": [
    "![Generate_run_id](../../images/generate_run_id.png)\n",
    "\n",
    "Using LangChain, we offer the ability to pre-generate and define run IDs, before your code is invoked and the run ID is generated. With this functionality, you're able to access your run ID before initial generation, which can be useful for actions like sending feedback. The example below demonstrates this."
   ]
  },
  {
   "cell_type": "code",
   "metadata": {
    "ExecuteTime": {
     "end_time": "2025-10-07T05:40:15.487387Z",
     "start_time": "2025-10-07T05:40:15.484134Z"
    }
   },
   "source": [
    "import uuid\n",
    "\n",
    "pre_defined_run_id = uuid.uuid4()\n",
    "pre_defined_run_id"
   ],
   "outputs": [
    {
     "data": {
      "text/plain": [
       "UUID('5d74593a-9874-49af-adfd-e566e117f30b')"
      ]
     },
     "execution_count": 6,
     "metadata": {},
     "output_type": "execute_result"
    }
   ],
   "execution_count": 6
  },
  {
   "cell_type": "code",
   "metadata": {
    "ExecuteTime": {
     "end_time": "2025-10-07T05:40:32.465970Z",
     "start_time": "2025-10-07T05:40:32.437698Z"
    }
   },
   "source": [
    "from langsmith import traceable\n",
    "\n",
    "@traceable\n",
    "def foo():\n",
    "    return \"This is a sample Run!\""
   ],
   "outputs": [],
   "execution_count": 7
  },
  {
   "cell_type": "markdown",
   "metadata": {},
   "source": [
    "We are passing in a config with our function call through `langsmith_extra` that contains our pre-defined run_id"
   ]
  },
  {
   "cell_type": "code",
   "metadata": {
    "ExecuteTime": {
     "end_time": "2025-10-07T05:40:34.234258Z",
     "start_time": "2025-10-07T05:40:34.146017Z"
    }
   },
   "source": [
    "foo(langsmith_extra={\"run_id\": pre_defined_run_id})"
   ],
   "outputs": [
    {
     "data": {
      "text/plain": [
       "'This is a sample Run!'"
      ]
     },
     "execution_count": 8,
     "metadata": {},
     "output_type": "execute_result"
    }
   ],
   "execution_count": 8
  },
  {
   "cell_type": "markdown",
   "metadata": {},
   "source": [
    "Now we can directly create feedback on this run!"
   ]
  },
  {
   "cell_type": "code",
   "metadata": {
    "ExecuteTime": {
     "end_time": "2025-10-07T05:40:41.706754Z",
     "start_time": "2025-10-07T05:40:40.657475Z"
    }
   },
   "source": [
    "from langsmith import Client\n",
    "\n",
    "client = Client()\n",
    "\n",
    "client.create_feedback(pre_defined_run_id, \"user_feedback\", score=1)"
   ],
   "outputs": [
    {
     "data": {
      "text/plain": [
       "Feedback(id=UUID('8504f7ee-6b7e-4800-8e27-0fce0b31d26b'), created_at=datetime.datetime(2025, 10, 7, 5, 40, 40, 659569, tzinfo=datetime.timezone.utc), modified_at=datetime.datetime(2025, 10, 7, 5, 40, 40, 659574, tzinfo=datetime.timezone.utc), run_id=UUID('5d74593a-9874-49af-adfd-e566e117f30b'), trace_id=None, key='user_feedback', score=1, value=None, comment=None, correction=None, feedback_source=FeedbackSourceBase(type='api', metadata={}, user_id=None, user_name=None), session_id=None, comparative_experiment_id=None, feedback_group_id=None, extra=None)"
      ]
     },
     "execution_count": 9,
     "metadata": {},
     "output_type": "execute_result"
    }
   ],
   "execution_count": 9
  },
  {
   "cell_type": "markdown",
   "metadata": {},
   "source": [
    "### Pre-signed Feedback URLs"
   ]
  },
  {
   "cell_type": "markdown",
   "metadata": {},
   "source": [
    "![presigned url](../../images/presigned_url.png)\n",
    "\n",
    "\n",
    "This can also be helpful for pre-signed feedback URLs. You would want to use these when you can't expose API keys or other secrets to the client, e.g. in a web application. Using a pre-determined run_id LangSmith has an endpoint create_presigned_feedback_token which will create a URL for sending feedback, without the use of secrets required."
   ]
  },
  {
   "cell_type": "code",
   "metadata": {
    "ExecuteTime": {
     "end_time": "2025-10-07T05:41:43.503087Z",
     "start_time": "2025-10-07T05:41:43.499730Z"
    }
   },
   "source": [
    "pre_signed_url_id = uuid.uuid4()\n",
    "pre_signed_url_id"
   ],
   "outputs": [
    {
     "data": {
      "text/plain": [
       "UUID('cb94f631-af30-41d1-8e3e-53f607ba5738')"
      ]
     },
     "execution_count": 10,
     "metadata": {},
     "output_type": "execute_result"
    }
   ],
   "execution_count": 10
  },
  {
   "cell_type": "code",
   "metadata": {
    "ExecuteTime": {
     "end_time": "2025-10-07T05:41:45.092806Z",
     "start_time": "2025-10-07T05:41:44.494963Z"
    }
   },
   "source": [
    "pre_signed_url = client.create_presigned_feedback_token(pre_signed_url_id, \"user_presigned_feedback\")\n",
    "\n",
    "print(pre_signed_url)"
   ],
   "outputs": [
    {
     "name": "stdout",
     "output_type": "stream",
     "text": [
      "id=UUID('0af4df75-9657-4afc-b1b6-78a18f30a4d8') url='https://api.smith.langchain.com/feedback/tokens/0af4df75-9657-4afc-b1b6-78a18f30a4d8' expires_at=datetime.datetime(2025, 10, 7, 8, 41, 44, 987189, tzinfo=datetime.timezone.utc)\n"
     ]
    }
   ],
   "execution_count": 11
  },
  {
   "cell_type": "markdown",
   "metadata": {},
   "source": [
    "Here, we can see that even though we haven't created a run yet, we're still able to generate the feedback URL.\n",
    "\n",
    "Now, let's invoke our chain so the run with that ID is created:"
   ]
  },
  {
   "cell_type": "code",
   "metadata": {
    "ExecuteTime": {
     "end_time": "2025-10-07T05:41:46.702790Z",
     "start_time": "2025-10-07T05:41:46.697157Z"
    }
   },
   "source": [
    "foo(langsmith_extra={\"run_id\": pre_signed_url_id})"
   ],
   "outputs": [
    {
     "data": {
      "text/plain": [
       "'This is a sample Run!'"
      ]
     },
     "execution_count": 12,
     "metadata": {},
     "output_type": "execute_result"
    }
   ],
   "execution_count": 12
  },
  {
   "cell_type": "markdown",
   "metadata": {},
   "source": [
    "Then, once our run is created, we can use the feedback URL to send feedback:"
   ]
  },
  {
   "cell_type": "code",
   "metadata": {
    "ExecuteTime": {
     "end_time": "2025-10-07T05:41:54.641322Z",
     "start_time": "2025-10-07T05:41:54.240546Z"
    }
   },
   "source": [
    "import requests\n",
    "\n",
    "url_with_score = f\"{pre_signed_url.url}?score=1\"\n",
    "\n",
    "response = requests.get(url_with_score)\n",
    "\n",
    "if response.status_code >= 200 and response.status_code < 300:\n",
    "    print(\"Feedback submitted successfully!\")\n",
    "else:\n",
    "    print(\"Feedback submission failed!\")"
   ],
   "outputs": [
    {
     "name": "stdout",
     "output_type": "stream",
     "text": [
      "Feedback submitted successfully!\n"
     ]
    }
   ],
   "execution_count": 13
  }
 ],
 "metadata": {
  "kernelspec": {
   "display_name": "ls-academy",
   "language": "python",
   "name": "python3"
  },
  "language_info": {
   "codemirror_mode": {
    "name": "ipython",
    "version": 3
   },
   "file_extension": ".py",
   "mimetype": "text/x-python",
   "name": "python",
   "nbconvert_exporter": "python",
   "pygments_lexer": "ipython3",
   "version": "3.9.6"
  }
 },
 "nbformat": 4,
 "nbformat_minor": 4
}
